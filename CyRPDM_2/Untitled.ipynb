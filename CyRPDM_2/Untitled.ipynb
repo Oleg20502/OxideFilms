{
 "cells": [
  {
   "cell_type": "code",
   "execution_count": 1,
   "id": "3826af7c",
   "metadata": {},
   "outputs": [],
   "source": [
    "import os\n",
    "import math\n",
    "import numpy as np\n",
    "import matplotlib.pyplot as plt\n",
    "import matplotlib.animation as animation\n",
    "col = ['k', 'b', 'r', 'g', 'tab:orange', 'm']\n",
    "mar = ['o', '^', 'v', 's', 'D']"
   ]
  },
  {
   "cell_type": "code",
   "execution_count": 3,
   "id": "318276c3",
   "metadata": {},
   "outputs": [
    {
     "name": "stdout",
     "output_type": "stream",
     "text": [
      "3.3333333333333333e-06 2.589 0.32463768115942043 0.005410628019323674\n",
      "4.4606488002875644e-14\n",
      "1.3309737191458598e-08\n",
      "4.4365790638195325e-14 4.82e-14\n",
      "1.446e-08\n"
     ]
    }
   ],
   "source": [
    "Temp = 400\n",
    "L_bl = 6 * 10**(-6)\n",
    "A_bl = 5.94 * 10**(-11) * 0.01\n",
    "b_2 = -4315 * 100\n",
    "V = 0.56\n",
    "d_dl = 1 * 10**(-9)\n",
    "C_bl = 4.82 * 10**(-12) * 0.01\n",
    "M_FeCr2O4 = 224 * 0.001\n",
    "M_O = 16 * 0.001\n",
    "rho_FeCr2O4 = 4.8 * 1000\n",
    "e = 1.6 * 10**(-19)\n",
    "k = 1.38 * 10**(-23)\n",
    "\n",
    "Om = M_O/rho_FeCr2O4\n",
    "delta_phi = 0.01 * V\n",
    "delta_phi_2 = V * d_dl/L_bl\n",
    "\n",
    "print(Om, -b_2*L_bl, 2*e*delta_phi/k/Temp, 2*e*delta_phi_2/k/Temp)\n",
    "print(A_bl * np.exp(b_2*L_bl))\n",
    "k2_0 = A_bl/Om*np.exp(b_2*L_bl - 2*e*delta_phi_2/k/Temp)\n",
    "print(k2_0)\n",
    "print(Om*k2_0, C_bl)\n",
    "print(C_bl/Om)"
   ]
  },
  {
   "cell_type": "code",
   "execution_count": null,
   "id": "2e9011e3",
   "metadata": {},
   "outputs": [],
   "source": []
  }
 ],
 "metadata": {
  "kernelspec": {
   "display_name": "Python 3 (ipykernel)",
   "language": "python",
   "name": "python3"
  },
  "language_info": {
   "codemirror_mode": {
    "name": "ipython",
    "version": 3
   },
   "file_extension": ".py",
   "mimetype": "text/x-python",
   "name": "python",
   "nbconvert_exporter": "python",
   "pygments_lexer": "ipython3",
   "version": "3.9.18"
  }
 },
 "nbformat": 4,
 "nbformat_minor": 5
}

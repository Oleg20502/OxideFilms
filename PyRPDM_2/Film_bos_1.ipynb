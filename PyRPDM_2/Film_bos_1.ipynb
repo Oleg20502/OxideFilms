{
 "cells": [
  {
   "cell_type": "code",
   "execution_count": 1,
   "id": "731b0fab",
   "metadata": {},
   "outputs": [
    {
     "name": "stdout",
     "output_type": "stream",
     "text": [
      "WARNING: Directory data_bos_1/ already exists\n"
     ]
    }
   ],
   "source": [
    "import os\n",
    "import math\n",
    "import numpy as np\n",
    "import matplotlib.pyplot as plt\n",
    "import matplotlib.animation as animation\n",
    "col = ['k', 'b', 'r', 'g', 'tab:orange', 'm']\n",
    "mar = ['o', '^', 'v', 's', 'D']\n",
    "\n",
    "import PyRPDM\n",
    "\n",
    "path_data = 'data_bos_1/'\n",
    "if not os.path.exists(path_data):\n",
    "    os.mkdir(path_data)\n",
    "else:\n",
    "    print(f'WARNING: Directory {path_data} already exists')"
   ]
  },
  {
   "cell_type": "code",
   "execution_count": 2,
   "id": "03f84396",
   "metadata": {},
   "outputs": [
    {
     "name": "stdout",
     "output_type": "stream",
     "text": [
      "2e-09 4.999999999999999e-10 400.00000000000006\n",
      "129 1001 201 12.207031250000002\n"
     ]
    }
   ],
   "source": [
    "L = 20 * 10**(-10)\n",
    "dx = 2**(-7)\n",
    "\n",
    "dt = 0.5 * (dx)**2\n",
    "Nt = 1000\n",
    "T = Nt * dt\n",
    "\n",
    "n_save = 20\n",
    "Ndata = 200  # or None\n",
    "\n",
    "\n",
    "A_D = 10**(-20)\n",
    "A_L = L\n",
    "A_C = 100\n",
    "A_J = A_D * A_C / A_L\n",
    "A_t = A_L**2/A_D\n",
    "print(A_L, A_J, A_t)\n",
    "\n",
    "Temp = 293\n",
    "Ff = 96485\n",
    "R = 8.314\n",
    "A_phi = R*Temp/Ff\n",
    "phi_ext = 1.5/A_phi\n",
    "\n",
    "x = np.arange(0, 1+dx, dx)\n",
    "t = np.arange(0, T+dt, dt)\n",
    "Nx = len(x)\n",
    "Nt = len(t)\n",
    "if Ndata is not None:\n",
    "    n_save = round((Nt-1) / Ndata)\n",
    "    if n_save < 1: n_save = 1\n",
    "Ndata = (Nt - 2) // n_save + 2;\n",
    "print(Nx, Nt, Ndata, T*A_t)\n"
   ]
  },
  {
   "cell_type": "code",
   "execution_count": 3,
   "id": "39f2814c",
   "metadata": {},
   "outputs": [],
   "source": [
    "c_M = np.zeros(Nx)\n",
    "c_O = np.zeros(Nx)\n",
    "\n",
    "s = int(0.2/dx)\n",
    "c_M[:s] = 3.40/x[s] * x[:s]\n",
    "c_M[s:] = 3.40\n",
    "c_O[:-s] = (4.20 - (4.20-3.70)/x[-s]*x[:-s])\n",
    "c_O[-s:] = 3.70*(L - x[-s:])/(L-x[-s])\n",
    "\n",
    "C_0 = np.concatenate([c_M, c_O])"
   ]
  },
  {
   "cell_type": "code",
   "execution_count": 4,
   "id": "85ee43f0",
   "metadata": {
    "scrolled": true
   },
   "outputs": [],
   "source": [
    "params = PyRPDM.Params()\n",
    "\n",
    "params.L = L\n",
    "params.T = T\n",
    "params.phi_ext = phi_ext\n",
    "params.C_0 = C_0\n",
    "params.x = x\n",
    "params.t = t\n",
    "params.n_save = n_save\n",
    "\n",
    "params.k1_0 = 5 * 10**(-8) / (A_J / A_C)   # reactive\n",
    "params.k2_0 = 7 * 10**(-8) / A_J\n",
    "params.k3_0 = 5 * 10**(-8) / A_J\n",
    "params.k4_0 = 5 * 10**(-8) / (A_J / A_C)    # reactive\n",
    "params.k5 = 7.5\n",
    "\n",
    "params.z = [-2, 2]\n",
    "params.D = [1, 1]\n",
    "\n",
    "params.A_J = A_J\n",
    "params.A_D = A_D\n",
    "params.A_L = A_L\n",
    "params.A_C = A_C\n",
    "params.A_t = A_t\n",
    "params.A_phi = A_phi\n",
    "params.Temp = Temp\n",
    "\n",
    "params.eps_0 = 8.85 * 10**(-12)\n",
    "params.eps_f = 10\n",
    "params.eps_dl = 10\n",
    "params.eps_cdl = 78.5\n",
    "params.d_dl = 0.5 * 10**(-10) / A_L\n",
    "params.d_cdl = 1 * 10**(-10) / A_L\n",
    "params.an1 = 0.2\n",
    "params.an2 = 0.1\n",
    "\n",
    "params.Ff = Ff\n",
    "params.R = R\n",
    "\n",
    "params.Nd = 2\n"
   ]
  },
  {
   "cell_type": "code",
   "execution_count": 5,
   "id": "e547e2ea",
   "metadata": {},
   "outputs": [
    {
     "name": "stdout",
     "output_type": "stream",
     "text": [
      "10000.000000000002 140.00000000000003\n",
      "10000.0\n",
      "100\n"
     ]
    }
   ],
   "source": [
    "print(params.k1_0, params.k2_0)\n",
    "print(5 * 10**(-8) * A_L/A_D)\n",
    "print(params.A_C)"
   ]
  },
  {
   "cell_type": "code",
   "execution_count": 6,
   "id": "ce767396",
   "metadata": {},
   "outputs": [
    {
     "name": "stdout",
     "output_type": "stream",
     "text": [
      "WARNING: Directory data_bos_1/0.00_140.0_1.5_1/ already exists\n"
     ]
    }
   ],
   "source": [
    "id = 1\n",
    "path = path_data + f'{L:.2f}_{params.k2_0:.1f}_{params.phi_ext*A_phi:.1f}_{id}/'\n",
    "\n",
    "if not os.path.exists(path):\n",
    "    os.mkdir(path)\n",
    "else:\n",
    "    print(f'WARNING: Directory {path} already exists')"
   ]
  },
  {
   "cell_type": "code",
   "execution_count": 7,
   "id": "863bec95",
   "metadata": {},
   "outputs": [],
   "source": [
    "film = PyRPDM.Film(params)"
   ]
  },
  {
   "cell_type": "code",
   "execution_count": 8,
   "id": "8307d6dd",
   "metadata": {},
   "outputs": [
    {
     "name": "stdout",
     "output_type": "stream",
     "text": [
      "5\n",
      "10\n",
      "15\n",
      "20\n",
      "25\n",
      "30\n",
      "35\n",
      "40\n",
      "45\n",
      "50\n",
      "55\n",
      "60\n",
      "65\n",
      "70\n",
      "75\n",
      "80\n",
      "85\n",
      "90\n",
      "95\n",
      "100\n",
      "105\n",
      "110\n",
      "115\n",
      "120\n",
      "125\n",
      "130\n",
      "135\n",
      "140\n",
      "145\n",
      "150\n",
      "155\n",
      "160\n",
      "165\n",
      "170\n",
      "175\n",
      "180\n",
      "185\n",
      "190\n",
      "195\n",
      "200\n",
      "205\n",
      "210\n",
      "215\n",
      "220\n",
      "225\n",
      "230\n",
      "235\n",
      "240\n",
      "245\n",
      "250\n",
      "255\n",
      "260\n",
      "265\n",
      "270\n",
      "275\n",
      "280\n",
      "285\n",
      "290\n",
      "295\n",
      "300\n",
      "305\n",
      "310\n",
      "315\n",
      "320\n",
      "325\n",
      "330\n",
      "335\n",
      "340\n",
      "345\n",
      "350\n",
      "355\n",
      "360\n",
      "365\n",
      "370\n",
      "375\n",
      "380\n",
      "385\n",
      "390\n",
      "395\n",
      "400\n",
      "405\n",
      "410\n",
      "415\n",
      "420\n",
      "425\n",
      "430\n",
      "435\n",
      "440\n",
      "445\n",
      "450\n",
      "455\n",
      "460\n",
      "465\n",
      "470\n",
      "475\n",
      "480\n",
      "485\n",
      "490\n",
      "495\n",
      "500\n",
      "505\n",
      "510\n",
      "515\n",
      "520\n",
      "525\n",
      "530\n",
      "535\n",
      "540\n",
      "545\n",
      "550\n",
      "555\n",
      "560\n",
      "565\n",
      "570\n",
      "575\n",
      "580\n",
      "585\n",
      "590\n",
      "595\n",
      "600\n",
      "605\n",
      "610\n",
      "615\n",
      "620\n",
      "625\n",
      "630\n",
      "635\n",
      "640\n",
      "645\n",
      "650\n",
      "655\n",
      "660\n",
      "665\n",
      "670\n",
      "675\n",
      "680\n",
      "685\n",
      "690\n",
      "695\n",
      "700\n",
      "705\n",
      "710\n",
      "715\n",
      "720\n",
      "725\n",
      "730\n",
      "735\n",
      "740\n",
      "745\n",
      "750\n",
      "755\n",
      "760\n",
      "765\n",
      "770\n",
      "775\n",
      "780\n",
      "785\n",
      "790\n",
      "795\n",
      "800\n",
      "805\n",
      "810\n",
      "815\n",
      "820\n",
      "825\n",
      "830\n",
      "835\n",
      "840\n",
      "845\n",
      "850\n",
      "855\n",
      "860\n",
      "865\n",
      "870\n",
      "875\n",
      "880\n",
      "885\n",
      "890\n",
      "895\n",
      "900\n",
      "905\n",
      "910\n",
      "915\n",
      "920\n",
      "925\n"
     ]
    },
    {
     "name": "stderr",
     "output_type": "stream",
     "text": [
      "C:\\Users\\OlegKashurin\\anaconda3\\lib\\site-packages\\scipy\\optimize\\nonlin.py:472: RuntimeWarning: invalid value encountered in double_scalars\n",
      "  and dx_norm/self.x_rtol <= x_norm))\n"
     ]
    },
    {
     "name": "stdout",
     "output_type": "stream",
     "text": [
      "930\n",
      "935\n",
      "940\n",
      "945\n",
      "950\n",
      "955\n",
      "960\n",
      "965\n",
      "970\n",
      "975\n",
      "980\n",
      "985\n",
      "990\n",
      "995\n",
      "1000\n",
      "Finished!\n"
     ]
    }
   ],
   "source": [
    "film.solve()"
   ]
  },
  {
   "cell_type": "markdown",
   "id": "c9a348f2",
   "metadata": {},
   "source": [
    "# Visualisation"
   ]
  },
  {
   "cell_type": "markdown",
   "id": "7a0894e9",
   "metadata": {},
   "source": [
    "## General"
   ]
  },
  {
   "cell_type": "code",
   "execution_count": 9,
   "id": "a7335762",
   "metadata": {},
   "outputs": [],
   "source": [
    "x = film.x\n",
    "dx = x[1] - x[0]\n",
    "Nx = len(x)\n",
    "\n",
    "t_data = film.Data_t\n",
    "Data_C = film.Data_C\n",
    "Data_C_MV = Data_C[:, :Nx]\n",
    "Data_C_OV = Data_C[:, Nx:]\n",
    "\n",
    "Data_phi = film.Data_phi\n",
    "Data_k2 = film.Data_k2\n",
    "\n",
    "Data_E = -(Data_phi[:, 1:] - Data_phi[:, :-1])/dx"
   ]
  },
  {
   "cell_type": "code",
   "execution_count": 10,
   "id": "6958744e",
   "metadata": {},
   "outputs": [],
   "source": [
    "# x = np.loadtxt(path+'/x.txt')\n",
    "# t_data = np.loadtxt(path+'/t_data.txt')\n",
    "# Data_C_MV = np.loadtxt(path+'/Data_C_MV.txt')\n",
    "# Data_C_OV = np.loadtxt(path+'/Data_C_OV.txt')\n",
    "# Data_phi = np.loadtxt(path+'/Data_phi.txt')\n",
    "# Data_E = np.loadtxt(path+'/Data_E.txt')\n",
    "# Data_k2 = np.loadtxt(path+'/Data_k2.txt')"
   ]
  },
  {
   "cell_type": "code",
   "execution_count": 18,
   "id": "dede2992",
   "metadata": {},
   "outputs": [
    {
     "name": "stdout",
     "output_type": "stream",
     "text": [
      "1.0924819340885114e-05\n"
     ]
    },
    {
     "data": {
      "image/png": "[encoded data removed]",
      "text/plain": [
       "<Figure size 640x480 with 1 Axes>"
      ]
     },
     "metadata": {},
     "output_type": "display_data"
    },
    {
     "data": {
      "image/png": "[encoded data removed]",
      "text/plain": [
       "<Figure size 640x480 with 1 Axes>"
      ]
     },
     "metadata": {},
     "output_type": "display_data"
    },
    {
     "data": {
      "image/png": "[encoded data removed]",
      "text/plain": [
       "<Figure size 640x480 with 1 Axes>"
      ]
     },
     "metadata": {},
     "output_type": "display_data"
    }
   ],
   "source": [
    "num = -1\n",
    "\n",
    "if num != 0 or num != 1:\n",
    "    print(np.linalg.norm(Data_C_MV[num-1] - Data_C_MV[num-2]))\n",
    "\n",
    "plt.plot(x*A_L/10**(-9), Data_C_MV[num]*A_C, 'r', label='MV')\n",
    "plt.plot(x*A_L/10**(-9), Data_C_OV[num]*A_C, 'b', label='OV')\n",
    "plt.title(f'Concentrations. t={t_data[num]*A_t:.2f} c')\n",
    "plt.legend()\n",
    "plt.xlabel('x, nm')\n",
    "plt.ylabel(r'C, mol/$m^{3}$')\n",
    "plt.grid()\n",
    "#plt.savefig(path+f'C({t_data[num]:.3f}).png', format='png', dpi=300)\n",
    "plt.show()\n",
    "\n",
    "plt.plot(x*A_L/10**(-9), A_phi*Data_phi[num], 'r', label='phi')\n",
    "plt.title(f'Phi. t={t_data[num]*A_t:.2f} c')\n",
    "plt.xlabel('x, nm')\n",
    "plt.ylabel('phi, V')\n",
    "plt.grid()\n",
    "#plt.savefig(path+f'phi({t_data[num]:.3f}).png', format='png', dpi=300)\n",
    "plt.show()\n",
    "\n",
    "plt.plot(x[:-1]*A_L/10**(-9), A_phi/A_L*Data_E[num], 'r', label='F')\n",
    "plt.title(f'Force. t={t_data[num]*A_t:.2f} c')\n",
    "plt.xlabel('x, nm')\n",
    "plt.ylabel('F, V/m')\n",
    "#plt.ylim([A_phi/A_L*F_min*0.95, A_phi/A_L*F_max*1.05])\n",
    "plt.grid()\n",
    "#plt.savefig(path+f'F({t_data[num]:.3f}).png', format='png', dpi=300)\n",
    "plt.show()"
   ]
  },
  {
   "cell_type": "code",
   "execution_count": 19,
   "id": "abe0e35e",
   "metadata": {},
   "outputs": [
    {
     "name": "stdout",
     "output_type": "stream",
     "text": [
      "[[1.47548745 1.46782728 1.4600221  ... 0.07890915 0.06585888 0.05272725]\n",
      " [1.47370298 1.46548516 1.45715565 ... 0.07932139 0.06620772 0.05300654]\n",
      " [1.47204919 1.46331457 1.45449148 ... 0.07987627 0.06666988 0.05337654]\n",
      " ...\n",
      " [1.46592904 1.45528187 1.44461788 ... 0.08326922 0.06948815 0.05563288]\n",
      " [1.46512143 1.45422188 1.44331442 ... 0.08395671 0.07006001 0.05609072]\n",
      " [1.46442816 1.45331196 1.44219511 ... 0.08461863 0.07061085 0.05653173]]\n"
     ]
    }
   ],
   "source": [
    "print(Data_phi[:10, :]*A_phi)"
   ]
  },
  {
   "cell_type": "markdown",
   "id": "e1490127",
   "metadata": {},
   "source": [
    "##       $k_2$ plot"
   ]
  },
  {
   "cell_type": "code",
   "execution_count": 20,
   "id": "3366fdef",
   "metadata": {},
   "outputs": [
    {
     "data": {
      "image/png": "[encoded data removed]",
      "text/plain": [
       "<Figure size 640x480 with 1 Axes>"
      ]
     },
     "metadata": {},
     "output_type": "display_data"
    }
   ],
   "source": [
    "plt.plot(Data_k2, 'b')\n",
    "#plt.plot([t_data[0], t_data[-1]], [k5, k5], 'k--')\n",
    "plt.xlabel('t, c')\n",
    "plt.title(r'$k_2$')\n",
    "plt.ylabel(r'$k_2$, $10^{-8}$ $моль$ $м^{-2}$ $с^{-1}$')\n",
    "plt.grid()\n",
    "#plt.savefig(path+f'k2.png', format='png', dpi=300)\n",
    "plt.show()"
   ]
  },
  {
   "cell_type": "markdown",
   "id": "73d5417a",
   "metadata": {},
   "source": [
    "## Concentrarion gifs"
   ]
  },
  {
   "cell_type": "code",
   "execution_count": null,
   "id": "167bbc85",
   "metadata": {},
   "outputs": [],
   "source": [
    "# Concentrarion gifs\n",
    "Nt_gif = min(4000, Ndata)\n",
    "\n",
    "C_max = max(np.max(Data_C_MV[:Nt_gif, :]), np.max(Data_C_OV[:Nt_gif, :]))\n",
    "def update_plot(num):\n",
    "    plt.cla()\n",
    "    plt.plot(x*0.1, Data_C_MV[num]*A_c, 'r', label='MV')\n",
    "    plt.plot(x*0.1, Data_C_OV[num]*A_c, 'b', label='OV')\n",
    "    plt.title(f'Concentrations. t={t_data[num]*A_t:.3f} c')\n",
    "    plt.legend()\n",
    "    plt.ylim([0, A_c * C_max*1.1])\n",
    "    #plt.xlim([0, L*0.1])\n",
    "    plt.xlabel('x, нм')\n",
    "    plt.ylabel(r'C, моль/$м^{3}$')\n",
    "    plt.grid()\n",
    "\n",
    "fig = plt.figure()\n",
    "ani = animation.FuncAnimation(fig, update_plot, Nt_gif)\n",
    "#ani.save(path+'C.gif', writer='pillow', fps=24)"
   ]
  },
  {
   "cell_type": "markdown",
   "id": "f911ce94",
   "metadata": {},
   "source": [
    "## Potential gifs"
   ]
  },
  {
   "cell_type": "code",
   "execution_count": null,
   "id": "ffbbe194",
   "metadata": {},
   "outputs": [],
   "source": [
    "Nt_gif = min(4000, Ndata)\n",
    "\n",
    "def update_plot(num):\n",
    "    plt.cla()\n",
    "    plt.plot(x*0.1, Data_phi[num]*A_phi, 'b')\n",
    "    plt.title(f'Potential. t={t_data[num]*A_t:.3f} c')\n",
    "    plt.xlabel('x, нм')\n",
    "    plt.ylabel(r'$\\phi$, В')\n",
    "    plt.ylim([0, phi_ext*1.1*A_phi])\n",
    "    plt.grid()\n",
    "    \n",
    "fig = plt.figure()\n",
    "ani = animation.FuncAnimation(fig, update_plot, Nt_gif)\n",
    "#ani.save(path+f'phi.gif', fps=24)"
   ]
  },
  {
   "cell_type": "markdown",
   "id": "0f8a56eb",
   "metadata": {},
   "source": [
    "## Electric field gif"
   ]
  },
  {
   "cell_type": "code",
   "execution_count": null,
   "id": "f803eb6f",
   "metadata": {},
   "outputs": [],
   "source": [
    "Nt_gif = min(4000, Ndata)\n",
    "\n",
    "E_max = np.max(Data_E)\n",
    "E_min = np.min(Data_E)\n",
    "def update_plot(num):\n",
    "    plt.cla()\n",
    "    plt.plot(x[:-1]*0.1, A_phi/A_L*Data_E[num], 'r', label='F')\n",
    "    plt.title(f'Electric field. t={t_data[num]*A_t:.3f} c')\n",
    "    plt.xlabel('x, нм')\n",
    "    plt.ylabel('E, В/м')\n",
    "    plt.ylim([A_phi/A_L*E_min*0.95, A_phi/A_L*E_max*1.05])\n",
    "    plt.grid()\n",
    "\n",
    "fig = plt.figure()\n",
    "ani = animation.FuncAnimation(fig, update_plot, Nt_gif)\n",
    "#ani.save(path+f'E.gif', fps=24)"
   ]
  }
 ],
 "metadata": {
  "kernelspec": {
   "display_name": "Python 3 (ipykernel)",
   "language": "python",
   "name": "python3"
  },
  "language_info": {
   "codemirror_mode": {
    "name": "ipython",
    "version": 3
   },
   "file_extension": ".py",
   "mimetype": "text/x-python",
   "name": "python",
   "nbconvert_exporter": "python",
   "pygments_lexer": "ipython3",
   "version": "3.9.18"
  }
 },
 "nbformat": 4,
 "nbformat_minor": 5
}
